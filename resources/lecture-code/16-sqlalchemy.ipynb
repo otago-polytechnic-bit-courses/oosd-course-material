{
 "cells": [
  {
   "cell_type": "code",
   "execution_count": null,
   "metadata": {},
   "outputs": [],
   "source": [
    "%config IPCompleter.greedy=True"
   ]
  },
  {
   "cell_type": "markdown",
   "metadata": {},
   "source": [
    "# SQLAlchemy"
   ]
  },
  {
   "cell_type": "code",
   "execution_count": null,
   "metadata": {},
   "outputs": [],
   "source": [
    "pip install sqlalchemy"
   ]
  },
  {
   "cell_type": "code",
   "execution_count": null,
   "metadata": {},
   "outputs": [],
   "source": [
    "# - SQLAlchemy is a Python toolkit & ORM \n",
    "# - SQLAlchemy considers the database to be a relational algebra engine\n",
    "# - Rows can be selected from tables, joins & other select statements\n",
    "# - ORM: data mapper pattern where classes can be mapped to the database. This allows the object \n",
    "# model & database schema to develop in a decoupled way\n",
    "# - Companies that use SQLAlchemy: Yelp!, reddit, DropBox, Survey Monkey\n",
    "\n",
    "# Resource - https://www.sqlalchemy.org/\n",
    "\n",
    "from sqlalchemy import create_engine, Column, ForeignKey, Integer, String, Table\n",
    "from sqlalchemy.ext.declarative import declarative_base\n",
    "from sqlalchemy.orm import relationship, sessionmaker\n",
    "\n",
    "# The new base class will be given a metaclass that produces appropriate\n",
    "# objects and makes the appropriate mapper() calls based on the information\n",
    "# provided declaratively in the class and any subclasses of the class\n",
    "Base = declarative_base()\n",
    "\n",
    "class Person(Base):\n",
    "    __tablename__ = 'person'\n",
    "    id = Column(Integer, primary_key=True)\n",
    "    first_name = Column(String(255), nullable=False)\n",
    "    last_name = Column(String(255), nullable=False)\n",
    "\n",
    "    def __init__(self, first_name, last_name):\n",
    "        self.first_name = first_name\n",
    "        self.last_name = last_name\n",
    "\n",
    "\n",
    "class Student(Person):\n",
    "    __tablename__ = 'student'\n",
    "    id = Column(None, ForeignKey('person.id'), primary_key=True)\n",
    "    student_id = Column(Integer, nullable=False, unique=True)\n",
    "    courses = relationship('Course', secondary='student_course')\n",
    "\n",
    "    def __init__(self, first_name, last_name, student_id):\n",
    "        super().__init__(first_name, last_name)\n",
    "        self.student_id = student_id\n",
    "\n",
    "\n",
    "class Course(Base):\n",
    "    __tablename__ = 'course'\n",
    "    id = Column(String, primary_key=True)\n",
    "    name = Column(String(255), nullable=False)\n",
    "    semester = Column(Integer, nullable=False)\n",
    "    students = relationship('Student', secondary='student_course')\n",
    "\n",
    "    def __init__(self, id, name, semester):\n",
    "        self.id = id\n",
    "        self.name = name\n",
    "        self.semester = semester\n",
    "\n",
    "\n",
    "class StudentCourse(Base):\n",
    "    __tablename__ = 'student_course'\n",
    "    student_id = Column(Integer, ForeignKey(\n",
    "        'student.student_id'), primary_key=True)\n",
    "    course_id = Column(String, ForeignKey('course.id'), primary_key=True)\n",
    "\n",
    "\n",
    "engine = create_engine('sqlite:///students.db', echo=False)\n",
    "Session = sessionmaker()\n",
    "Session.configure(bind=engine)\n",
    "# Issue a CREATE statement for all tables, using the given Connectable for connectivity\n",
    "Base.metadata.create_all(engine)\n",
    "\n",
    "session = Session()\n",
    "\n",
    "records = [\n",
    "    Student('Salvador', 'Allen', 1000045392),\n",
    "    Student('James', 'Gillespie', 1000054576),\n",
    "    Student('Jack', 'Carney', 1000053613),\n",
    "    Course('IN512', 'Fundamentals of Web Development', 1),\n",
    "    Course('IN515', 'Introduction to Networks', 2),\n",
    "    Course('IN615', 'Routing & Switching', 1),\n",
    "    Course('IN628', 'Programming 4', 2),\n",
    "    StudentCourse(student_id=1000045392, course_id='IN512'),\n",
    "    StudentCourse(student_id=1000045392, course_id='IN515'),\n",
    "    StudentCourse(student_id=1000045392, course_id='IN628'),\n",
    "    StudentCourse(student_id=1000054576, course_id='IN512'),\n",
    "    StudentCourse(student_id=1000053613, course_id='IN512'),\n",
    "]\n",
    "\n",
    "session.add_all(records)\n",
    "session.commit()"
   ]
  },
  {
   "cell_type": "code",
   "execution_count": null,
   "metadata": {},
   "outputs": [],
   "source": [
    "def main():\n",
    "    query = session.query(Course).filter(Course.name == 'Programming 4').one()\n",
    "    print('==================================================')  \n",
    "    for student in query.students:\n",
    "        print(f'{student.first_name} {student.last_name} {student.student_id}')\n",
    "    print('==================================================')    \n",
    "    \n",
    "    query = session.query(Course).join(StudentCourse).join(\n",
    "        Student).filter(Student.student_id == 1000045392).filter(Course.semester == 2)\n",
    "    print('==================================================')  \n",
    "    for course in query:\n",
    "        print(f'{course.name}')\n",
    "    print('==================================================')  \n",
    "\n",
    "    session.close()\n",
    "\n",
    "\n",
    "if __name__ == '__main__':\n",
    "    main()"
   ]
  },
  {
   "cell_type": "code",
   "execution_count": null,
   "metadata": {},
   "outputs": [],
   "source": []
  }
 ],
 "metadata": {
  "kernelspec": {
   "display_name": "Python 3",
   "language": "python",
   "name": "python3"
  },
  "language_info": {
   "codemirror_mode": {
    "name": "ipython",
    "version": 3
   },
   "file_extension": ".py",
   "mimetype": "text/x-python",
   "name": "python",
   "nbconvert_exporter": "python",
   "pygments_lexer": "ipython3",
   "version": "3.7.5"
  }
 },
 "nbformat": 4,
 "nbformat_minor": 2
}
