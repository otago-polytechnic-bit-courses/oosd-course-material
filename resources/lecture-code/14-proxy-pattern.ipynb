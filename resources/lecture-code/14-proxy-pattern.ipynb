{
 "cells": [
  {
   "cell_type": "code",
   "execution_count": null,
   "metadata": {},
   "outputs": [],
   "source": [
    "%config IPCompleter.greedy=True"
   ]
  },
  {
   "cell_type": "markdown",
   "metadata": {},
   "source": [
    "# Proxy Pattern"
   ]
  },
  {
   "cell_type": "code",
   "execution_count": 1,
   "metadata": {},
   "outputs": [
    {
     "name": "stdout",
     "output_type": "stream",
     "text": [
      "The driver is too young to drive\n",
      "The driver is old enough to drive\n"
     ]
    }
   ],
   "source": [
    "# Type: structural pattern\n",
    "\n",
    "# Intent: Provide a surrogate or placeholder for\n",
    "# another object to control access to it. This allows\n",
    "# you to perform something either before or after the\n",
    "# request gets through to the original object\n",
    "\n",
    "from abc import ABC, abstractmethod\n",
    "\n",
    "\n",
    "# Subject in the GoF UML diagram\n",
    "\n",
    "# - Declares the interface of the service object\n",
    "# - The proxy must implement this interface in order to disguise itself as a service object\n",
    "class AbstractCar(ABC):\n",
    "    @abstractmethod\n",
    "    def drive(self):\n",
    "        raise NotImplementedError\n",
    "\n",
    "\n",
    "# RealSubject in the GoF UML diagram\n",
    "\n",
    "# Service object - provides some logic\n",
    "class Car(AbstractCar):\n",
    "    def drive(self):\n",
    "        print('The driver is old enough to drive')\n",
    "\n",
    "\n",
    "class Driver:\n",
    "    def __init__(self, age):\n",
    "        self.age = age\n",
    "\n",
    "\n",
    "# Proxy in the GoF UML diagram\n",
    "\n",
    "# - References the service object - Car\n",
    "# - After the proxy has finished processing, it passes a request to the service object\n",
    "class ProxyCar(AbstractCar):\n",
    "    def __init__(self, driver):\n",
    "        self.car = Car()\n",
    "        self.driver = driver\n",
    "\n",
    "    def drive(self):\n",
    "        if self.driver.age <= 16:\n",
    "            print('The driver is too young to drive')\n",
    "        else:\n",
    "            self.car.drive()\n",
    "\n",
    "\n",
    "# - Works with services/proxies through the same interface\n",
    "# - You can pass a proxy into any code that expects a service object\n",
    "def main():\n",
    "    driver = Driver(16)\n",
    "    car = ProxyCar(driver)\n",
    "    car.drive()\n",
    "\n",
    "    driver = Driver(25)\n",
    "    car = ProxyCar(driver)\n",
    "    car.drive()\n",
    "\n",
    "\n",
    "if __name__ == '__main__':\n",
    "    main()"
   ]
  },
  {
   "cell_type": "code",
   "execution_count": null,
   "metadata": {},
   "outputs": [],
   "source": []
  }
 ],
 "metadata": {
  "kernelspec": {
   "display_name": "Python 3",
   "language": "python",
   "name": "python3"
  },
  "language_info": {
   "codemirror_mode": {
    "name": "ipython",
    "version": 3
   },
   "file_extension": ".py",
   "mimetype": "text/x-python",
   "name": "python",
   "nbconvert_exporter": "python",
   "pygments_lexer": "ipython3",
   "version": "3.7.5"
  }
 },
 "nbformat": 4,
 "nbformat_minor": 2
}
