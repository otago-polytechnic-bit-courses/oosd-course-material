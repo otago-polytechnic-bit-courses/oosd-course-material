{
 "cells": [
  {
   "cell_type": "code",
   "execution_count": null,
   "metadata": {},
   "outputs": [],
   "source": [
    "%config IPCompleter.greedy=True"
   ]
  },
  {
   "cell_type": "markdown",
   "metadata": {},
   "source": [
    "# Template Pattern"
   ]
  },
  {
   "cell_type": "code",
   "execution_count": 11,
   "metadata": {},
   "outputs": [
    {
     "name": "stdout",
     "output_type": "stream",
     "text": [
      "Preparing the pizza\n",
      "Cooking the pizza\n",
      "Eating the pizza\n",
      "Preparing the steak\n",
      "Cooking the steak\n",
      "Eating the steak\n",
      "Cleaning up\n"
     ]
    }
   ],
   "source": [
    "# The intent of the template pattern is to define the overall structure of the operation.\n",
    "# Below we have three classes. One abstract & two deriving from said abstract class. The\n",
    "# subclasses, in this case MakePizza & MakeSteak are allowed to redefine certain steps.\n",
    "\n",
    "# Problem/solution\n",
    "# We have three classes PDFParser, DOCXParse, CSVParser which are used to mine\n",
    "# data from their respective file extensions. Imagine creating program that initially\n",
    "# mines only .pdf files. Two weeks later you decide to add a class which mines \n",
    "# only .docx files. Four months down the line, you decide to add a class which mines \n",
    "# only .csv files. Note that you have copied the original class structure into \n",
    "# each new class. There is huge with this program...We can make this better \n",
    "# by creating DataMiner abstract class and subsequent subclasses.\n",
    "\n",
    "from abc import ABC, abstractmethod\n",
    "\n",
    "\n",
    "class MakeDinner(ABC):\n",
    "    # In this example, there are four helper methods - prepare, cook &\n",
    "    # eat are abstract, cleanup is a hook method. Subclasses of MakeDinner are required\n",
    "    # to provide concrete implementations for the mentioned abstract methods.\n",
    "    # In this example, our subclasses are going to be MakePizza & MakeSteak.\n",
    "    @abstractmethod\n",
    "    def prepare(self):\n",
    "        raise NotImplementedError\n",
    "\n",
    "    @abstractmethod\n",
    "    def cook(self):\n",
    "        raise NotImplementedError\n",
    "\n",
    "    @abstractmethod\n",
    "    def eat(self):\n",
    "        raise NotImplementedError\n",
    "\n",
    "    # Not abstract. A method in the base class that has an empty body. The\n",
    "    # operation of this method can be overriden by the subclasses. As you can\n",
    "    # see, MakeSteak overrides this method.\n",
    "    def cleanup(self):\n",
    "        raise NotImplementedError\n",
    "\n",
    "    # Template method.\n",
    "    def process(self):\n",
    "        self.prepare()\n",
    "        self.cook()\n",
    "        self.eat()\n",
    "        self.cleanup()\n",
    "\n",
    "\n",
    "class MakePizza(MakeDinner):\n",
    "    def prepare(self):\n",
    "        print('Preparing the pizza')\n",
    "\n",
    "    def cook(self):\n",
    "        print('Cooking the pizza')\n",
    "\n",
    "    def eat(self):\n",
    "        print('Eating the pizza')\n",
    "\n",
    "\n",
    "class MakeSteak(MakeDinner):\n",
    "    def prepare(self):\n",
    "        print('Preparing the steak')\n",
    "\n",
    "    def cook(self):\n",
    "        print('Cooking the steak')\n",
    "\n",
    "    def eat(self):\n",
    "        print('Eating the steak')\n",
    "\n",
    "    def cleanup(self):\n",
    "        print('Cleaning up')\n",
    "\n",
    "\n",
    "def main():\n",
    "    make_pizza = MakePizza()\n",
    "    make_pizza.process()\n",
    "    make_steak = MakeSteak()\n",
    "    make_steak.process()\n",
    "\n",
    "\n",
    "if __name__ == '__main__':\n",
    "    main()"
   ]
  }
 ],
 "metadata": {
  "kernelspec": {
   "display_name": "Python 3",
   "language": "python",
   "name": "python3"
  },
  "language_info": {
   "codemirror_mode": {
    "name": "ipython",
    "version": 3
   },
   "file_extension": ".py",
   "mimetype": "text/x-python",
   "name": "python",
   "nbconvert_exporter": "python",
   "pygments_lexer": "ipython3",
   "version": "3.7.5"
  }
 },
 "nbformat": 4,
 "nbformat_minor": 2
}
