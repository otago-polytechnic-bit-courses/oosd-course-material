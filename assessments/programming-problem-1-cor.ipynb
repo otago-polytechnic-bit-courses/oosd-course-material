{
 "cells": [
  {
   "cell_type": "markdown",
   "metadata": {},
   "source": [
    "# Chain of Responsibility - Programming Problem 1"
   ]
  },
  {
   "cell_type": "code",
   "execution_count": 11,
   "metadata": {},
   "outputs": [
    {
     "name": "stdout",
     "output_type": "stream",
     "text": [
      ".bz2 file found\n",
      ".zip file found\n",
      ".gz file found\n",
      ".rar not found\n"
     ]
    }
   ],
   "source": [
    "from abc import ABC, abstractmethod\n",
    "\n",
    "\n",
    "class Handler(ABC):\n",
    "    def __init__(self):\n",
    "        self.__next = None\n",
    "\n",
    "    def set_next(self, handler):\n",
    "        self.__next = handler\n",
    "        return handler\n",
    "\n",
    "    @abstractmethod\n",
    "    def handle(self, request):\n",
    "        if self.__next:\n",
    "            return self.__next.handle(request)\n",
    "        return None\n",
    "\n",
    "\n",
    "class ConcreteBZ2Handler(Handler):\n",
    "    def handle(self, request):\n",
    "        if request == 'bz2':\n",
    "            return '.bz2 file found'\n",
    "        return super().handle(request)\n",
    "\n",
    "\n",
    "class ConcreteZIPHandler(Handler):\n",
    "    def handle(self, request):\n",
    "        if request == 'zip':\n",
    "            return '.zip file found'\n",
    "        return super().handle(request)\n",
    "\n",
    "\n",
    "class ConcreteGZHandler(Handler):\n",
    "    def handle(self, request):\n",
    "        if request == 'gz':\n",
    "            return '.gz file found'\n",
    "        return super().handle(request)\n",
    "\n",
    "\n",
    "def main():\n",
    "    bz2_handler = ConcreteBZ2Handler()\n",
    "    zip_handler = ConcreteZIPHandler()\n",
    "    gz_handler = ConcreteGZHandler()\n",
    "    bz2_handler.set_next(zip_handler).set_next(gz_handler)\n",
    "    files = ['file1.bz2', 'file2.zip', 'file3.gz', 'file4.rar']\n",
    "    for file in files:\n",
    "        ext = file.split('.')[-1]\n",
    "        result = bz2_handler.handle(ext)\n",
    "        output = result if result else f'.{ext} not found'\n",
    "        print(output)\n",
    "\n",
    "\n",
    "if __name__ == '__main__':\n",
    "    main()"
   ]
  },
  {
   "cell_type": "markdown",
   "metadata": {},
   "source": [
    "## "
   ]
  }
 ],
 "metadata": {
  "kernelspec": {
   "display_name": "Python 3",
   "language": "python",
   "name": "python3"
  },
  "language_info": {
   "codemirror_mode": {
    "name": "ipython",
    "version": 3
   },
   "file_extension": ".py",
   "mimetype": "text/x-python",
   "name": "python",
   "nbconvert_exporter": "python",
   "pygments_lexer": "ipython3",
   "version": "3.7.5"
  }
 },
 "nbformat": 4,
 "nbformat_minor": 2
}
