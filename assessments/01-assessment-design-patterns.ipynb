{
 "cells": [
  {
   "cell_type": "markdown",
   "metadata": {},
   "source": [
    "##### College of Engineering, Construction and Living Sciences<br>Bachelor of Information Technology<br>IN710: Object-Oriented Systems Development<br>Level 7, Credits 15<br><br>Deadline: Friday, 8 May at 5pm\n",
    "\n",
    "# Assessment 01: Design Patterns\n",
    "\n",
    "For this assessment, you will use Python/OO design patterns with Jupyter Notebook to solve 15 problems. This will consist of five written, five programming & five unit testing problems. All programming solutions should adhere to the design pattern's UML diagram as described in the lecture slides. You are allowed to deviate from this as long as you are solving the problem using the correct description/template. In addition, marks will also be given for code elegance, functionality, robustness & git usage."
   ]
  },
  {
   "cell_type": "markdown",
   "metadata": {},
   "source": [
    "## Git Usage - Learning Outcomes: 2, 3\n",
    "In this task, you are required to:\n",
    "1. Create three branches for the written, programming & unit testing problems. **Note:** branches must be named as specified in the screenshot below. Names which deviating from this will not be accepted.\n",
    "2. Add, commit & push your solution to GitHub after completion of each problem. **Note:** non-descriptive commit messages will not be accepted.\n",
    "\n",
    "Refer to the marking schedule for expected GitHub repository branch structure."
   ]
  },
  {
   "cell_type": "markdown",
   "metadata": {},
   "source": [
    "## Written - Learning Outcomes: 2, 3\n",
    "In this task, you are given five real-world problems. For each problem, you are required to:\n",
    "1. Choose an OO design pattern which you think provides the best solution.\n",
    "2. Describe the relationships between classes & objects pertaining to your solution.\n",
    "3. Create an UML diagram detailing your solution. Display your UML diagram in the notebook using markdown.\n",
    "\n",
    "The patterns you will use are:\n",
    "- Builder\n",
    "- Factory\n",
    "- Flyweight\n",
    "- Proxy\n",
    "- Template\n",
    "\n",
    "<hr />"
   ]
  },
  {
   "cell_type": "markdown",
   "metadata": {},
   "source": [
    "**Real-World Problem 1** \n",
    "\n",
    "Consider the Air New Zealand frequent flyer benefits. Initially, a member will be assigned to the silver tier. As a member accumulates more flights, the member will move up to either the gold or elite tier. At these tiers, members can access the lounge, extra baggage & cabin upgrades. \n",
    "\n",
    "The Air New Zealand frequent flyer benefits work in yearly cycles. At the end of a member's yearly cycle, their flight activity is calculated & they will be assigned to one of the three tiers. A member is required to fly 25 times in a given yearly cycle to remain assigned to the silver tier, 50 times to remain assigned to the gold tier & 75 times to remain assigned to the elite tier."
   ]
  },
  {
   "cell_type": "code",
   "execution_count": null,
   "metadata": {},
   "outputs": [],
   "source": [
    "# Write your real-world problem 1 solution here"
   ]
  },
  {
   "cell_type": "markdown",
   "metadata": {},
   "source": [
    "**Real-World Problem 2** \n",
    "\n",
    "Consider a collection of sorting algorithms (bubble sort, selection sort, insertion sort, etc). Each sorting algorithm has a specific structure which is independent from the items being sorted. Eventually, the sorting algorithm will need to at least compare two items. Of course, this depends on the type of items being compared. For example, we can easily compare two integers - true or false, does x equal y? What happens if we want to compare people objects. It can be done by comparing person a's last name with person b's last name. However, the comparison could be made on another field, such as first name, mobile number, email address, etc. There is a clear distinction between the sorting algorithm & the operation that is dependent on the data. The same distinction exists for other algorithms such as searching."
   ]
  },
  {
   "cell_type": "code",
   "execution_count": null,
   "metadata": {},
   "outputs": [],
   "source": [
    "# Write your real-world problem 2 solution here"
   ]
  },
  {
   "cell_type": "markdown",
   "metadata": {},
   "source": [
    "**Real-World Problem 3** \n",
    "\n",
    "Consider a new social media application similar to Facebook, Instagram & Twitter. A feature of this application/system would allow people who do not intend to post, tweet, etc to sign up only to view other user's feeds. It would be an ideal situation for every new user to begin with a clean feed & not allocate any storage space until they have added friends/users. \n",
    "\n",
    "Another feature of this application/system would allow users to logged on & access their friend's feed. All actions (write on wall, send gifts, etc) performed by the user would originate at the browser & be sent across the network to the nearest server."
   ]
  },
  {
   "cell_type": "code",
   "execution_count": null,
   "metadata": {},
   "outputs": [],
   "source": [
    "# Write your real-world problem 3 solution here"
   ]
  },
  {
   "cell_type": "markdown",
   "metadata": {},
   "source": [
    "**Real-World Problem 4** \n",
    "\n",
    "Consider a photo library application. We want to display a library of photos at any one time. We want to be able to scroll up & down through the library without noticeable lag. Photos should be preloaded into memory & should remain in memory while the application is running. \n",
    "\n",
    "Also consider a photo grouping application. We want to be able to organise photos into groups. Photos can belong to many different groups. Potentially, the number of photos to display could increase exponentially. If all of the photos do fit in memory & given they belong to different groups means that any photo could display at irregular times, resulting in a lot of disk transfers."
   ]
  },
  {
   "cell_type": "code",
   "execution_count": null,
   "metadata": {},
   "outputs": [],
   "source": [
    "# Write your real-world problem 4 solution here"
   ]
  },
  {
   "cell_type": "markdown",
   "metadata": {},
   "source": [
    "**Real-World Problem 5**\n",
    "\n",
    "Consider a clothing company that sells genuine & fake handbags. Each handbag is made up of several parts including the body, strap, accessories, etc. Generally, the more expensive the bag, the more parts it will have. Obviously, each bag will have a different list of parts. For example, handbag may have a plastic body, full grain leather strap & a sterling silver logo metal plate."
   ]
  },
  {
   "cell_type": "code",
   "execution_count": null,
   "metadata": {},
   "outputs": [],
   "source": [
    "# Write your real-world problem 5 solution here"
   ]
  },
  {
   "cell_type": "markdown",
   "metadata": {},
   "source": [
    "## Programming - Learning Outcomes: 2, 3\n",
    "\n",
    "In this task, you are given five programming problems. You will be required to:\n",
    "1. Refactor an existing program by implementing the specified OO design pattern\n",
    "2. Use the given scenario to write a program using the specified OO design pattern\n",
    "\n",
    "<hr />"
   ]
  },
  {
   "cell_type": "markdown",
   "metadata": {},
   "source": [
    "**Programming Problem 1 - Strategy Pattern**  \n",
    "\n",
    "In this problem, you will be using the **strategy pattern** & following instructions to display the expected output.\n",
    "\n",
    "- Class `Decompressor` has two attributes & one method. Class method `decompress` checks if a given file extension is found. \n",
    "- In the `main` method, `Decompressor` object calls the `decompress` method on each filename in the list.\n",
    "\n",
    "**Note:** Any changes to the `main` method will result in a mark of zero for this problem."
   ]
  },
  {
   "cell_type": "code",
   "execution_count": null,
   "metadata": {},
   "outputs": [],
   "source": [
    "class Decompressor:\n",
    "    def __init__(self, filename):\n",
    "        self.filename = filename\n",
    "        self.suffix = filename.split('.')[-1]\n",
    "\n",
    "    def decompress(self):\n",
    "        output = ''\n",
    "        if self.suffix == 'bz2':\n",
    "            output = '.bz2 file found'\n",
    "        elif self.suffix == 'zip':\n",
    "            output = '.zip file found'\n",
    "        elif self.suffix == 'gz':\n",
    "            output = '.gz file found'\n",
    "        else:\n",
    "            output = f'.{self.suffix} not found'\n",
    "        return output\n",
    "\n",
    "\n",
    "def main():\n",
    "    files = ['file1.bz2', 'file2.zip', 'file3.gz', 'file4.rar']\n",
    "    for f in files:\n",
    "        dec = Decompressor(f)\n",
    "        print(dec.decompress())\n",
    "\n",
    "\n",
    "if __name__ == '__main__':\n",
    "    main()\n",
    "\n",
    "# Expected output:\n",
    "\n",
    "# .bz2 file found\n",
    "# .zip file found\n",
    "# .gz file found\n",
    "# .rar not found"
   ]
  },
  {
   "cell_type": "markdown",
   "metadata": {},
   "source": [
    "**Programming Problem 2 - Template Pattern**  \n",
    "\n",
    "In this problem, you will use the **template pattern** & following instructions to display the expected output below.\n",
    "\n",
    "- Class `Car` has three attributes `model`, `color` & `year`. For each attribute create a property using the `@property` decorator. A `__str__` for this class has been provided for you.\n",
    "- Class `CarReport` is an abstract base class with four class methods. `filter_condition` & `subject` are abstract methods. `generate_report` has `cars` & `recipient` as its arguments. Loop through the `cars` list & check the `filter_condition` for each car. If the condition returns `True`, then the car will be appended to the `filtered_cars` list. Create a new `email_subject` & assign it the value returned by the `subject`. Create a new `email_body` & assign it the value returned by `format_cars`.\n",
    "- Class `OldCarReport` implements `CarReport`. `filter_condition` checks for cars that were manufactured before 2001. The `subject` returns `Subject: old cars report`.\n",
    "- Class `BlueCarReport` implements `CarReport`. `filter_condition` checks for cars that are blue. The `subject` returns `Subject: blue cars report`.\n",
    "- In the `main` method, you have been provided a list of `Car` objects, an `OldCarReport` object & a `BlueCarReport` objects. The `CarReport` objects call the `generate_report` method.\n",
    "\n",
    "**Note:** Any changes to the `main` method will result in a mark of zero for this problem."
   ]
  },
  {
   "cell_type": "code",
   "execution_count": null,
   "metadata": {},
   "outputs": [],
   "source": [
    "class Car:\n",
    "    def __init__(self):\n",
    "        pass\n",
    "\n",
    "    def __str__(self):\n",
    "        return f'\\n- Model: {self.__model}\\n- Color: {self.__color}\\n- Year: {self.__year}'\n",
    "\n",
    "\n",
    "class CarReport:\n",
    "    def __init__(self):\n",
    "        self.filtered_cars = []\n",
    "\n",
    "    def generate_report(self):\n",
    "        print('==================================================')\n",
    "        print(f'To: {recipient}')\n",
    "        print(email_subject)\n",
    "        print('==================================================')\n",
    "        print(email_body)\n",
    "        print('==================================================')\n",
    "\n",
    "    def format_cars(self, filtered_cars):\n",
    "        return '\\n'.join([c.__str__() for c in self.filtered_cars])\n",
    "\n",
    "    def filter_condition(self, car):\n",
    "        pass\n",
    "\n",
    "    def subject(self):\n",
    "        pass\n",
    "\n",
    "\n",
    "class OldCarReport:\n",
    "    pass\n",
    "\n",
    "\n",
    "class BlueCarReport:\n",
    "    pass\n",
    "\n",
    "\n",
    "def main():\n",
    "    cars = [Car('Ferrari 250 GT California', 'red', 1957),\n",
    "            Car('Ferrari F12 Berlinetta', 'red', 1998),\n",
    "            Car('Bugatti Divo', 'black', 2018),\n",
    "            Car('Bugatti Centodieci', 'white', 2020)]\n",
    "    old_car_report = OldCarReport()\n",
    "    blue_car_report = BlueCarReport()\n",
    "    old_car_report.generate_report(cars, 'johndoe@gmail.com')\n",
    "    blue_car_report.generate_report(cars, 'janedoe@gmail.com')\n",
    "\n",
    "\n",
    "if __name__ == '__main__':\n",
    "    main()\n",
    "\n",
    "# Expected output:\n",
    "\n",
    "# ==================================================\n",
    "# To: johndoe@gmail.com\n",
    "# Subject: old cars report\n",
    "# ==================================================\n",
    "# Cars found:\n",
    "# - Model: Ferrari 250 GT California\n",
    "# - Color: red\n",
    "# - Year: 1957\n",
    "\n",
    "# - Model: Ferrari F12 Berlinetta\n",
    "# - Color: red\n",
    "# - Year: 1998\n",
    "# ==================================================\n",
    "# ==================================================\n",
    "# To: janedoe@gmail.com\n",
    "# Subject: blue cars report\n",
    "# ==================================================\n",
    "# No cars found.\n",
    "# =================================================="
   ]
  },
  {
   "cell_type": "markdown",
   "metadata": {},
   "source": [
    "**Programming Problem 3 - Observer Pattern**\n",
    "\n",
    "In this problem, you will use the observer pattern to display the expected output.\n",
    "\n",
    "This problem is very similar to what you did in **practical 06**. Instead, I wish to be notified when a restaurant called Cucina is open & closed. \n",
    "\n",
    "**Note:** Any changes to the `main` method will result in a mark of zero for this problem."
   ]
  },
  {
   "cell_type": "code",
   "execution_count": null,
   "metadata": {},
   "outputs": [],
   "source": [
    "class RestaurantSubject:\n",
    "    pass\n",
    "\n",
    "\n",
    "class ConcreteRestaurantSubject(RestaurantSubject):\n",
    "    pass\n",
    "\n",
    "\n",
    "class RestaurantObserver:\n",
    "    pass\n",
    "\n",
    "\n",
    "class ConcreteRestaurant(RestaurantObserver):\n",
    "    pass\n",
    "\n",
    "\n",
    "def main():\n",
    "    cucina = ConcreteRestaurant('Cucina')\n",
    "    concrete_restaurant_subject = ConcreteRestaurantSubject(True)\n",
    "    concrete_restaurant_subject.attach(cucina)\n",
    "    concrete_restaurant_subject.is_open = False\n",
    "    concrete_restaurant_subject.is_open = True\n",
    "\n",
    "\n",
    "if __name__ == '__main__':\n",
    "    main()\n",
    "\n",
    "# Expected output:\n",
    "\n",
    "# Cucina is not open\n",
    "# Cucina is open"
   ]
  },
  {
   "cell_type": "markdown",
   "metadata": {},
   "source": [
    "**Programming Problem 4 - Adapter Pattern**\n",
    "\n",
    "In this problem, you will use the solution from programming problem 2, the adapter pattern & the following instructions to display the expected output.\n",
    "\n",
    "- Class `DifferentCar` has three attributes `model`, `color` & `manufacture_date`. For each attribute create a property using the `@property` decorator.\n",
    "- Create an adapter called `DifferentCarAdapter` which inherits from `Car`. It's constructor takes `different_car` as it's argument.\n",
    "- Pass the `DifferentCar` properties as arguments to the `super().__init__`.\n",
    "\n",
    "**Note:** Any changes to the `main` method will result in a mark of zero for this problem."
   ]
  },
  {
   "cell_type": "code",
   "execution_count": null,
   "metadata": {},
   "outputs": [],
   "source": [
    "class DifferentCar:\n",
    "    pass\n",
    "\n",
    "\n",
    "class DifferentCarAdapter:\n",
    "    pass\n",
    "\n",
    "\n",
    "def main():\n",
    "    old_car_report = OldCarReport()\n",
    "    cars = [DifferentCar('Tesla Model S', 'green', date(2015, 12, 12)),\n",
    "            DifferentCar('Tesla Model X', 'blue', date(2020, 4, 10)),\n",
    "            DifferentCar('Tesla Cycbertruck', 'silver', date(2000, 5, 25))]\n",
    "    different_car_adapter = [DifferentCarAdapter(c) for c in cars]\n",
    "    old_car_report.generate_report(different_car_adapter, 'joedoe@gmail.com')\n",
    "\n",
    "\n",
    "if __name__ == '__main__':\n",
    "    main()\n",
    "\n",
    "# Expected output:\n",
    "\n",
    "# ==================================================\n",
    "# To: joedoe@gmail.com\n",
    "# Subject: old cars report\n",
    "# ==================================================\n",
    "# Cars found:\n",
    "# - Model: Tesla Cycbertruck\n",
    "# - Color: silver\n",
    "# - Year: 2000\n",
    "# =================================================="
   ]
  },
  {
   "cell_type": "markdown",
   "metadata": {},
   "source": [
    "**Programming Problem 5 - Singleton Pattern**\n",
    "\n",
    "In this problem, you will use the naïve singleton pattern & the following instructions to display the expected output.\n",
    "\n",
    "- Implement a naïve singleton type as describe in **lecture 08**.\n",
    "- The `Fetcher` singleton has two class methods `fetch` & `registry`. The `fetch` method takes the given url & makes a request. If the response is ok, then print the url's page source. The `registry` method joins the list of urls together.\n",
    "\n",
    "Resources: https://docs.python.org/3/library/urllib.html\n",
    "\n",
    "**Note:** Any changes to the `main` method will result in a mark of zero for this problem."
   ]
  },
  {
   "cell_type": "code",
   "execution_count": null,
   "metadata": {},
   "outputs": [],
   "source": [
    "from urllib.error import HTTPError, URLError\n",
    "from urllib.request import Request, urlopen\n",
    "\n",
    "\n",
    "class SingletonType:\n",
    "    pass\n",
    "\n",
    "\n",
    "class Fetcher:\n",
    "    def __init__(self):\n",
    "        self.urls = []\n",
    "\n",
    "    def fetch(self, url):\n",
    "        pass\n",
    "\n",
    "    def registry(self):\n",
    "        pass\n",
    "\n",
    "\n",
    "def main():\n",
    "    urls = ['http://www.example.com', 'https://www.google.com']\n",
    "    fetcher = Fetcher()\n",
    "\n",
    "    if fetcher == fetcher:\n",
    "        for u in urls:\n",
    "            try:\n",
    "                fetcher.fetch(u)\n",
    "            except HTTPError as e:\n",
    "                print(e)\n",
    "            except URLError as e:\n",
    "                print(e)\n",
    "        print(f'\\nURLs fetched: {fetcher.registry()}')\n",
    "\n",
    "\n",
    "if __name__ == '__main__':\n",
    "    main()\n",
    "\n",
    "# Expected output:\n",
    "\n",
    "# view-source:http://www.example.com\n",
    "# view-source:https://www.google.com\n",
    "\n",
    "# URLs fetched: http://www.example.com, https://www.google.com"
   ]
  },
  {
   "cell_type": "markdown",
   "metadata": {},
   "source": [
    "## Unit Testing - Learning Outcomes: 2, 3\n",
    "\n",
    "In this task, you are given five unit testing problems. You will be required to:\n",
    "1. Create a test case class for each programming problem\n",
    "2. Create unit tests covering all class methods \n",
    "\n",
    "<hr />"
   ]
  },
  {
   "cell_type": "markdown",
   "metadata": {},
   "source": [
    "**Unit Test 1 - Strategy Pattern**\n",
    "\n",
    "In this problem, you will create a test case & unit tests covering all methods in **programming problem 1** which use the return statement."
   ]
  },
  {
   "cell_type": "code",
   "execution_count": null,
   "metadata": {},
   "outputs": [],
   "source": [
    "# Write your unit test 1 solution here"
   ]
  },
  {
   "cell_type": "markdown",
   "metadata": {},
   "source": [
    "**Unit Test 2 - Template Pattern**\n",
    "\n",
    "In this problem, you will create a test case & unit tests covering all methods in **programming problem 2** which use the return statement."
   ]
  },
  {
   "cell_type": "code",
   "execution_count": null,
   "metadata": {},
   "outputs": [],
   "source": [
    "# Write your unit test 2 solution here"
   ]
  },
  {
   "cell_type": "markdown",
   "metadata": {},
   "source": [
    "**Unit Test 3 - Observer Pattern**\n",
    "\n",
    "In this problem, you will create a test case & unit tests covering all methods in **programming problem 3** which use the return statement."
   ]
  },
  {
   "cell_type": "code",
   "execution_count": null,
   "metadata": {},
   "outputs": [],
   "source": [
    "# Write your unit test 3 solution here"
   ]
  },
  {
   "cell_type": "markdown",
   "metadata": {},
   "source": [
    "**Unit Test 4 - Adapter Pattern**\n",
    "\n",
    "In this problem, you will create a test case & unit tests covering all methods in **programming problem 4** which use the return statement."
   ]
  },
  {
   "cell_type": "code",
   "execution_count": null,
   "metadata": {},
   "outputs": [],
   "source": [
    "# Write your unit test 4 solution here"
   ]
  },
  {
   "cell_type": "markdown",
   "metadata": {},
   "source": [
    "**Unit Test 5 - Builder Pattern**\n",
    "\n",
    "In this problem, you will create a test case & unit tests covering all methods in **programming problem 5** which use the return statement."
   ]
  },
  {
   "cell_type": "code",
   "execution_count": null,
   "metadata": {},
   "outputs": [],
   "source": [
    "# Write your unit test 5 solution here"
   ]
  }
 ],
 "metadata": {
  "kernelspec": {
   "display_name": "Python 3",
   "language": "python",
   "name": "python3"
  },
  "language_info": {
   "codemirror_mode": {
    "name": "ipython",
    "version": 3
   },
   "file_extension": ".py",
   "mimetype": "text/x-python",
   "name": "python",
   "nbconvert_exporter": "python",
   "pygments_lexer": "ipython3",
   "version": "3.7.5"
  }
 },
 "nbformat": 4,
 "nbformat_minor": 2
}
