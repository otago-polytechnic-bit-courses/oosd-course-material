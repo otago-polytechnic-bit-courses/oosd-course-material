{
 "cells": [
  {
   "cell_type": "markdown",
   "metadata": {},
   "source": [
    "##### College of Engineering, Construction and Living Sciences<br>Bachelor of Information Technology<br>IN710: Object-Oriented Systems Development<br>Level 7, Credits 15<br><br>Deadline: Tuesday, 7 April at 5pm\n",
    "\n",
    "# Practical 12: Flyweight Pattern\n",
    "\n",
    "In this practical, you will complete a series of tasks covering today's lecture. This practical is worth 1% of the final mark for the Object-Oriented Systems Development course."
   ]
  },
  {
   "cell_type": "code",
   "execution_count": null,
   "metadata": {},
   "outputs": [],
   "source": [
    "%config IPCompleter.greedy=True"
   ]
  },
  {
   "cell_type": "markdown",
   "metadata": {},
   "source": [
    "## Flyweight Pattern"
   ]
  },
  {
   "cell_type": "markdown",
   "metadata": {},
   "source": [
    "### Game Titles & Genres\n",
    "**Task 1:** \n",
    "Implement the flyweight as describe in the lecture slides using data containing game titles & genres. A list of `games` has been provided to you in the `main` method."
   ]
  },
  {
   "cell_type": "code",
   "execution_count": 12,
   "metadata": {},
   "outputs": [],
   "source": [
    "from json import dumps\n",
    "\n",
    "\n",
    "def main():\n",
    "    games = [\n",
    "        ['GTA: San Andreas', 'Action-Adventure'],\n",
    "        ['Donkey Kong', 'Platform'],\n",
    "        ['Super Mario Bros', 'Platform']\n",
    "    ]\n",
    "\n",
    "\n",
    "if __name__ == '__main__':\n",
    "    main()\n",
    "\n",
    "# Expected output:\n",
    "\n",
    "# ==================================================\n",
    "# Reusing existing flyweight\n",
    "# Intrinsic state - [\"GTA: San Andreas\", \"Action-Adventure\"]\n",
    "# Extrinsic state - [\"John Doe\"]\n",
    "# List of flyweights - ['GTA: San Andreas Action-Adventure', 'Donkey Kong Platform', 'Super Mario Bros Platform']\n",
    "# ==================================================\n",
    "# Creating new flyweight\n",
    "# Intrinsic state - [\"Dungeons & Dragons\", \"Role-Playing\"]\n",
    "# Extrinsic state - [\"Jane Doe\"]\n",
    "# List of flyweights - ['GTA: San Andreas Action-Adventure', 'Donkey Kong Platform', 'Super Mario Bros Platform', 'Dungeons & Dragons Role-Playing']\n",
    "# =================================================="
   ]
  },
  {
   "cell_type": "markdown",
   "metadata": {},
   "source": [
    "### Flyweights & Concurrency\n",
    "**Task 2:** Answer the following questions:\n",
    "\n",
    "1. What are the effects of creating flyweight objects in a concurrent environment, for example, on multiple threads? \n",
    "2. What can you do to prevent this from happening? "
   ]
  },
  {
   "cell_type": "code",
   "execution_count": null,
   "metadata": {},
   "outputs": [],
   "source": [
    "# Write your answers here."
   ]
  },
  {
   "cell_type": "markdown",
   "metadata": {},
   "source": [
    "# Submission\n",
    "1. Create a new branch named 12-checkpoint within your practicals GitHub repository\n",
    "2. Create a new pull request and assign Grayson-Orr to review your submission\n",
    "\n",
    "**Note:** Please don't merge your own pull request."
   ]
  }
 ],
 "metadata": {
  "kernelspec": {
   "display_name": "Python 3",
   "language": "python",
   "name": "python3"
  },
  "language_info": {
   "codemirror_mode": {
    "name": "ipython",
    "version": 3
   },
   "file_extension": ".py",
   "mimetype": "text/x-python",
   "name": "python",
   "nbconvert_exporter": "python",
   "pygments_lexer": "ipython3",
   "version": "3.7.5"
  }
 },
 "nbformat": 4,
 "nbformat_minor": 2
}
