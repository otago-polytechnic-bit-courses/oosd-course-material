{
 "cells": [
  {
   "cell_type": "markdown",
   "metadata": {},
   "source": [
    "##### College of Engineering, Construction and Living Sciences<br>Bachelor of Information Technology<br>IN710: Object-Oriented Systems Development<br>Level 7, Credits 15<br><br>Deadline: Tuesday, 24 March at 5pm\n",
    "\n",
    "# Practical 08: Singleton Pattern\n",
    "\n",
    "In this practical, you will complete a series of tasks covering today's lecture. This practical is worth 1% of the final mark for the Object-Oriented Systems Development course."
   ]
  },
  {
   "cell_type": "code",
   "execution_count": null,
   "metadata": {},
   "outputs": [],
   "source": [
    "%config IPCompleter.greedy=True"
   ]
  },
  {
   "cell_type": "markdown",
   "metadata": {},
   "source": [
    "## Singleton Pattern"
   ]
  },
  {
   "cell_type": "markdown",
   "metadata": {},
   "source": [
    "### SOLID\n",
    "**Task 1:** Describe how the singleton pattern violates the open/closed principle."
   ]
  },
  {
   "cell_type": "code",
   "execution_count": null,
   "metadata": {},
   "outputs": [],
   "source": [
    "# Write your answer here"
   ]
  },
  {
   "cell_type": "markdown",
   "metadata": {},
   "source": [
    "**Task 2:** Describe how the singleton pattern violates the single responsibility  principle."
   ]
  },
  {
   "cell_type": "code",
   "execution_count": null,
   "metadata": {},
   "outputs": [],
   "source": [
    "# Write your answer here"
   ]
  },
  {
   "cell_type": "markdown",
   "metadata": {},
   "source": [
    "**Task 3:** Describe how the singleton pattern violates the dependency inversion principle."
   ]
  },
  {
   "cell_type": "code",
   "execution_count": null,
   "metadata": {},
   "outputs": [],
   "source": [
    "# Write your answer here"
   ]
  },
  {
   "cell_type": "markdown",
   "metadata": {},
   "source": [
    "### Unit Testing Singleton Instance"
   ]
  },
  {
   "cell_type": "markdown",
   "metadata": {},
   "source": [
    "**Task 4:** Implement the `SingletonMeta` class using the naïve implementation. Use the hints in the test case class below to display the expected output."
   ]
  },
  {
   "cell_type": "code",
   "execution_count": null,
   "metadata": {},
   "outputs": [],
   "source": [
    "from unittest import TestCase, main\n",
    "\n",
    "\n",
    "class SingletonMeta(type):\n",
    "    pass\n",
    "\n",
    "\n",
    "class Singleton(metaclass=SingletonMeta):\n",
    "    pass  # Do not write any code in this class\n",
    "\n",
    "\n",
    "class Foo(Singleton):\n",
    "    pass  # Do not write any code in this class\n",
    "\n",
    "\n",
    "class Bar(Foo):\n",
    "    pass  # Do not write any code in this class\n",
    "\n",
    "\n",
    "class Baz:\n",
    "    pass  # Do not write any code in this class\n",
    "\n",
    "\n",
    "class TestSingleton(TestCase):\n",
    "    def setUp(self):\n",
    "        # Create the four class instances here\n",
    "\n",
    "    def test_foo_is_a_singleton(self):\n",
    "        # Test if the Foo class is the same instance as the Singleton class\n",
    "\n",
    "    def test_bar_is_a_foo(self):\n",
    "        # Test if the Bar class is the same instance as the Foo class\n",
    "\n",
    "    def test_baz_is_a_bar(self):\n",
    "        # Test if the Baz class is not the same instance as the Singleton class\n",
    "\n",
    "    def tearDown(self):\n",
    "        # Set the four class instances to null\n",
    "\n",
    "\n",
    "if __name__ == '__main__':\n",
    "    main(argv=[''], verbosity=2, exit=False)\n",
    "\n",
    "# Expected output:\n",
    "\n",
    "# test_bar_is_a_foo (__main__.TestSingleton) ... ok\n",
    "# test_baz_is_a_bar (__main__.TestSingleton) ... ok\n",
    "# test_foo_is_a_singleton (__main__.TestSingleton) ... ok"
   ]
  },
  {
   "cell_type": "markdown",
   "metadata": {},
   "source": [
    "### BITCoin\n",
    "**Task 5 (Optional):** \n",
    "In this task, you going to implement a mock cryptocurrency miner. A `BITCoin` is a 6-digit string consisting of lowercase alphanumeric characters. There is a seed of 100,000 coins in the currency pool. You have been provided a singleton class called `BITCoin` & required modules. \n",
    "\n",
    "Implement the following:\n",
    "- Use two different algorithms to mine, for example, a random hash & sequential scan\n",
    "- Run the miner on four threads (two for each algorithm)\n",
    "- Run the miner for 30 seconds\n",
    "- At the end of the mining, display all the mined `BITCoins` - I expect to see about 100-150"
   ]
  },
  {
   "cell_type": "code",
   "execution_count": null,
   "metadata": {},
   "outputs": [],
   "source": [
    "from random import choice, randrange\n",
    "from threading import Lock, Thread\n",
    "from time import time\n",
    "\n",
    "\n",
    "class BITCoin():\n",
    "    __instance = None\n",
    "    lock = Lock()\n",
    "\n",
    "    def __init__(self):\n",
    "        self.chars = '0123456789abcdefghijklmnopqrstuvwxyz'\n",
    "        self.coin_len = 6\n",
    "        self.tokens = []\n",
    "        self.valid_coins = []\n",
    "        self.unique_tokens = self.populate_unique()\n",
    "\n",
    "    def populate_unique(self):\n",
    "        for _ in range(100_000):\n",
    "            token = ''\n",
    "            for _ in range(self.coin_len):\n",
    "                token += choice(self.chars)\n",
    "            self.tokens.append(token)\n",
    "        return set(self.tokens)\n",
    "\n",
    "    @staticmethod\n",
    "    def get_instance():\n",
    "        if not BITCoin.__instance:\n",
    "            BITCoin.__instance = BITCoin()\n",
    "        return BITCoin.__instance\n",
    "\n",
    "    def is_coin(self, token):\n",
    "        return token in self.unique_tokens"
   ]
  },
  {
   "cell_type": "markdown",
   "metadata": {},
   "source": [
    "# Submission\n",
    "1. Create a new branch named 08-checkpoint within your practicals GitHub repository\n",
    "2. Create a new pull request and assign Grayson-Orr to review your submission\n",
    "\n",
    "**Note:** Please don't merge your own pull request."
   ]
  }
 ],
 "metadata": {
  "kernelspec": {
   "display_name": "Python 3",
   "language": "python",
   "name": "python3"
  },
  "language_info": {
   "codemirror_mode": {
    "name": "ipython",
    "version": 3
   },
   "file_extension": ".py",
   "mimetype": "text/x-python",
   "name": "python",
   "nbconvert_exporter": "python",
   "pygments_lexer": "ipython3",
   "version": "3.7.5"
  }
 },
 "nbformat": 4,
 "nbformat_minor": 2
}
