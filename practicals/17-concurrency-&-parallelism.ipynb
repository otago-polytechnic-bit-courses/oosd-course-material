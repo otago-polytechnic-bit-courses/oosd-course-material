{
 "cells": [
  {
   "cell_type": "markdown",
   "metadata": {},
   "source": [
    "##### College of Engineering, Construction and Living Sciences<br>Bachelor of Information Technology<br>IN710: Object-Oriented Systems Development<br>Level 7, Credits 15<br><br>Deadline: Tuesday, 7 April at 5pm\n",
    "\n",
    "# Practical 17: Concurrency & Parallelism\n",
    "\n",
    "In this **self-directed** practical, you will complete a series of tasks covering today's lecture. This practical is worth 1% of the final mark for the Object-Oriented Systems Development course."
   ]
  },
  {
   "cell_type": "code",
   "execution_count": null,
   "metadata": {},
   "outputs": [],
   "source": [
    "%config IPCompleter.greedy=True"
   ]
  },
  {
   "cell_type": "markdown",
   "metadata": {},
   "source": [
    "### Threading & Concurrency\n",
    "**Task 1:** Answer the following questions:\n",
    "1. What is concurrency?\n",
    "2. What is the difference between CPU bound & I/O bound?\n",
    "3. What is a thread?\n",
    "4. When the following cell is executed, what is happening?\n",
    "5. In the `Thread` object, there are three arguments. What are these arguments & their purpose?\n",
    "6. What does the `threading` function `start` do?\n",
    "7. What does the `threading` function `join` do?\n",
    "\n",
    "**Resources:**\n",
    "- Concurrency - https://en.wikipedia.org/wiki/Concurrency_(computer_science)\n",
    "- Thread Wikipedia - https://en.wikipedia.org/wiki/Thread_(computing)\n",
    "- Threading Module - https://docs.python.org/3/library/threading.html"
   ]
  },
  {
   "cell_type": "code",
   "execution_count": null,
   "metadata": {},
   "outputs": [],
   "source": [
    "# Write your answers below\n",
    "\n",
    "# 1.\n",
    "# 2.\n",
    "# 3.\n",
    "# 4.\n",
    "# 5.\n",
    "# 6.\n",
    "# 7."
   ]
  },
  {
   "cell_type": "code",
   "execution_count": null,
   "metadata": {},
   "outputs": [],
   "source": [
    "from threading import Thread\n",
    "from time import perf_counter, sleep\n",
    "\n",
    "\n",
    "def sleeping(secs):\n",
    "    print(f'Going to sleep for {secs} second(s)')\n",
    "    sleep(secs)\n",
    "    print(f'Woke up after {secs} second(s)')\n",
    "\n",
    "\n",
    "def main():\n",
    "    start = perf_counter()\n",
    "\n",
    "    threads = [Thread(target=sleeping, args=[5], daemon=True) for _ in range(5)]\n",
    "\n",
    "    for t in threads:\n",
    "        t.start()\n",
    "\n",
    "    for t in threads:\n",
    "        t.join()\n",
    "\n",
    "    finish = perf_counter()\n",
    "    print(f'Process finished in {round(finish - start, 2)} second(s)')\n",
    "\n",
    "\n",
    "if __name__ == '__main__':\n",
    "    main()"
   ]
  },
  {
   "cell_type": "markdown",
   "metadata": {},
   "source": [
    "### ThreadPoolExecutor\n",
    "\n",
    "`concurrent.futures` `ThreadPoolExecutor` is an alternative to the `threading` module.\n",
    "\n",
    "**Resources:**\n",
    "- Concurrent Futures Module - https://docs.python.org/3/library/concurrent.futures.html"
   ]
  },
  {
   "cell_type": "code",
   "execution_count": null,
   "metadata": {},
   "outputs": [],
   "source": [
    "from concurrent.futures import as_completed, ThreadPoolExecutor\n",
    "from time import perf_counter, sleep\n",
    "\n",
    "\n",
    "def sleeping(secs):\n",
    "    print(f'Going to sleep for {secs} second(s)')\n",
    "    sleep(secs)\n",
    "    return f'Woke up after {secs} second(s)'\n",
    "\n",
    "\n",
    "def main():\n",
    "    start = perf_counter()\n",
    "\n",
    "    with ThreadPoolExecutor() as executor:\n",
    "        secs = [5, 4, 3, 2, 1]\n",
    "        results = executor.map(sleeping, secs) \n",
    "        for r in results:\n",
    "            print(r)\n",
    "\n",
    "    finish = perf_counter()\n",
    "    print(f'Process finished in {round(finish - start, 2)} second(s)')\n",
    "\n",
    "\n",
    "if __name__ == '__main__':\n",
    "    main()"
   ]
  },
  {
   "cell_type": "markdown",
   "metadata": {},
   "source": [
    "### Threading & Picsum API\n",
    "\n",
    "**Task 2:** In this task, you will use your solution from practical 15 question 5 to download images from the **Picsum API** to your current directory. Currently, it takes eight seconds to download all 10 images, but with threading, it takes two seconds. Refactor the `main` method so that it is using the `ThreadPoolExecutor` class & it's `map` method. "
   ]
  },
  {
   "cell_type": "code",
   "execution_count": null,
   "metadata": {},
   "outputs": [],
   "source": [
    "from concurrent.futures import ThreadPoolExecutor\n",
    "from requests import get\n",
    "from time import perf_counter\n",
    "\n",
    "\n",
    "def download_img(url):\n",
    "    img_bytes = get(url).content\n",
    "    img_name = ''.join(url.split('/')[4:])\n",
    "    img_name = f'{img_name}.jpg'\n",
    "    with open(img_name, 'wb') as f:\n",
    "        f.write(img_bytes)\n",
    "        print(f'{img_name} was downloaded.')\n",
    "\n",
    "\n",
    "def main():\n",
    "    start = perf_counter()\n",
    "    \n",
    "    # Make a request to the Picsum API\n",
    "    # Get the downloaded urls from the response and append to a list\n",
    "    \n",
    "    # Use a context manager with ThreadPoolExecutor() as executor\n",
    "        # Call the executor's map method - pass in a function & iterable\n",
    "\n",
    "    finish = perf_counter()\n",
    "    print(f'Process finished in {round(finish - start, 2)} second(s)')\n",
    "\n",
    "\n",
    "if __name__ == '__main__':\n",
    "    main()"
   ]
  },
  {
   "cell_type": "markdown",
   "metadata": {},
   "source": [
    "### Multi-Processing & Parallelism\n",
    "**Task 3:** Answer the following questions:\n",
    "1. What is parallelism?\n",
    "2. When the following cell is executed, what is happening?\n",
    "3. What does the `multiprocessing` function `start` do?\n",
    "4. What does the `multiprocessing` function `join` do?\n",
    "\n",
    "**Resources:**\n",
    "- Parallel Computing - https://en.wikipedia.org/wiki/Parallel_computing\n",
    "- Multi-Processing Module - https://docs.python.org/3/library/multiprocessing.html"
   ]
  },
  {
   "cell_type": "code",
   "execution_count": null,
   "metadata": {},
   "outputs": [],
   "source": [
    "# Write your answers below\n",
    "\n",
    "# 1.\n",
    "# 2.\n",
    "# 3.\n",
    "# 4."
   ]
  },
  {
   "cell_type": "code",
   "execution_count": null,
   "metadata": {},
   "outputs": [],
   "source": [
    "from multiprocessing import Process\n",
    "from time import perf_counter, sleep\n",
    "\n",
    "\n",
    "def sleeping(secs):\n",
    "    print(f'Going to sleep for {secs} second(s)')\n",
    "    sleep(secs)\n",
    "    print(f'Woke up after {secs} second(s)')\n",
    "\n",
    "\n",
    "def main():\n",
    "    start = perf_counter()\n",
    "\n",
    "    processes = [Process(target=sleeping, args=[5]) for _ in range(5)]\n",
    "\n",
    "    for p in processes:\n",
    "        p.start()\n",
    "\n",
    "    for p in processes:\n",
    "        p.join()\n",
    "\n",
    "    finish = perf_counter()\n",
    "    print(f'Process finished in {round(finish - start, 2)} second(s)')\n",
    "\n",
    "\n",
    "if __name__ == '__main__':\n",
    "    main()"
   ]
  },
  {
   "cell_type": "markdown",
   "metadata": {},
   "source": [
    "### ProcessPoolExecutor\n",
    "\n",
    "`concurrent.futures` `ProcessPoolExecutor` is an alternative to the `threading` module."
   ]
  },
  {
   "cell_type": "code",
   "execution_count": null,
   "metadata": {},
   "outputs": [],
   "source": [
    "from concurrent.futures import as_completed, ProcessPoolExecutor\n",
    "from time import perf_counter, sleep\n",
    "\n",
    "\n",
    "def sleeping(secs):\n",
    "    print(f'Going to sleep for {secs} second(s)')\n",
    "    sleep(secs)\n",
    "    return f'Woke up after {secs} second(s)'\n",
    "\n",
    "\n",
    "def main():\n",
    "    start = perf_counter()\n",
    "\n",
    "    with ProcessPoolExecutor() as executor:\n",
    "        secs = [5, 4, 3, 2, 1]\n",
    "        results = executor.map(sleeping, secs)\n",
    "        for r in results:\n",
    "            print(r)\n",
    "\n",
    "    finish = perf_counter()\n",
    "    print(f'Process finished in {round(finish - start, 2)} second(s)')\n",
    "\n",
    "\n",
    "if __name__ == '__main__':\n",
    "    main()"
   ]
  },
  {
   "cell_type": "markdown",
   "metadata": {},
   "source": [
    "### Multi-Processing & Photo Filtering\n",
    "\n",
    "**Task 4:** \n",
    "1. In this task, you will experiment with multi-processing where you will apply an image filter to each downloaded image. Use the `glob` module to get all downloaded images in the current directory with the extension `.jpg`. Append these images to a list called `imgs`. Refactor the `main` method so that it is using the `ProcessPoolExecutor` class & it's `map` method. \n",
    "2. Make a note of the process time. Again, refactor the code so that it is using `ThreadPoolExecutor` instead of `ProcessPoolExecutor`. Execute the code & compare the process time.\n",
    "3. Is this program CPU bound or I/O bound?\n",
    "\n",
    "**Resources:**\n",
    "- Glob Module - https://docs.python.org/3/library/glob.html"
   ]
  },
  {
   "cell_type": "code",
   "execution_count": null,
   "metadata": {},
   "outputs": [],
   "source": [
    "from concurrent.futures import ProcessPoolExecutor\n",
    "from glob import glob\n",
    "from os import chdir\n",
    "from PIL import Image, ImageFilter\n",
    "from requests import get\n",
    "from time import perf_counter\n",
    "\n",
    "\n",
    "def filter_img(img_name):\n",
    "    img = Image.open(img_name)\n",
    "    img = img.filter(ImageFilter.GaussianBlur(15))\n",
    "    img.save(img_name)\n",
    "    print(f'{img_name} was processed.')\n",
    "\n",
    "\n",
    "def main():\n",
    "    start = perf_counter()\n",
    "\n",
    "    # Get all images in the current directory with the extension .jpg and append to a list\n",
    "\n",
    "    # Use a context manager with ProcessPoolExecutor() as executor\n",
    "        # Call the executor's map method - pass in a function & iterable\n",
    "\n",
    "    finish = perf_counter()\n",
    "    print(f'Process finished in {round(finish - start, 2)} second(s)')\n",
    "\n",
    "\n",
    "if __name__ == '__main__':\n",
    "    main()"
   ]
  },
  {
   "cell_type": "markdown",
   "metadata": {},
   "source": [
    "# Submission\n",
    "1. Create a new branch named 17-checkpoint within your practicals GitHub repository\n",
    "2. Create a new pull request and assign Grayson-Orr to review your submission\n",
    "\n",
    "**Note:** Please don't merge your own pull request."
   ]
  }
 ],
 "metadata": {
  "kernelspec": {
   "display_name": "Python 3",
   "language": "python",
   "name": "python3"
  },
  "language_info": {
   "codemirror_mode": {
    "name": "ipython",
    "version": 3
   },
   "file_extension": ".py",
   "mimetype": "text/x-python",
   "name": "python",
   "nbconvert_exporter": "python",
   "pygments_lexer": "ipython3",
   "version": "3.7.5"
  }
 },
 "nbformat": 4,
 "nbformat_minor": 2
}
