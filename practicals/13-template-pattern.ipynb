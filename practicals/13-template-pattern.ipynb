{
 "cells": [
  {
   "cell_type": "markdown",
   "metadata": {},
   "source": [
    "##### College of Engineering, Construction and Living Sciences<br>Bachelor of Information Technology<br>IN710: Object-Oriented Systems Development<br>Level 7, Credits 15<br><br>Deadline: Tuesday, 14 April at 5pm (first week of mid-semester break)\n",
    "\n",
    "# Practical 13: Template Pattern\n",
    "\n",
    "In this practical, you will complete a series of tasks covering today's lecture. This practical is worth 1% of the final mark for the Object-Oriented Systems Development course."
   ]
  },
  {
   "cell_type": "code",
   "execution_count": null,
   "metadata": {},
   "outputs": [],
   "source": [
    "%config IPCompleter.greedy=True"
   ]
  },
  {
   "cell_type": "markdown",
   "metadata": {},
   "source": [
    "## Template Pattern"
   ]
  },
  {
   "cell_type": "markdown",
   "metadata": {},
   "source": [
    "### Pokemon\n",
    "**Task 1:** In this task, you will:\n",
    "1. Create an interface called `Pokemon` with the class attributes `name`, `power`, `attack` & `defence`. This class will have an abstract method called `calculate_impact` with the argument `multiplier`. The formula for this will be determined later in it's concrete classes. This class also has three other methods, `calculate_multiplier` which returns 0.5 * `power` * `random()`, `show_damage` which prints the Pokemon's damage & `calculate_damage` (template method) which calls the aforementioned methods.\n",
    "2. Create a class called `FightingPokemon` which implements `Pokemon`. `calculate_impact` returns the following formula: `attack` / `defence` * `multiplier` + 1. Make sure you `floor` the result.\n",
    "3. Create a class called `GroundPokemon` which implements `Pokemon`. `calculate_impact` returns the following formula: `attack` - `defence` * `multiplier` + 1. Make sure you `floor` the result.\n",
    "4. Create a class called `WaterPokemon` which implements `Pokemon`. `calculate_impact` returns the following formula: `attack` + `defence` * `multiplier` + 1. Make sure you `floor` the result.\n",
    "5. In the `main` method, create an object for each type of `Pokemon`. Call it's `__str__` and `calculate_damage` methods. "
   ]
  },
  {
   "cell_type": "code",
   "execution_count": 1,
   "metadata": {},
   "outputs": [],
   "source": [
    "from abc import ABC, abstractmethod\n",
    "from math import floor\n",
    "from random import random\n",
    "\n",
    "\n",
    "class Pokemon(ABC):\n",
    "    # Write your methods here.\n",
    "\n",
    "    def __str__(self):\n",
    "        return f'- Name: {self.name}\\n- Power: {self.power}\\n- Attack: {self.attack}\\n- Defence: {self.defence}'\n",
    "\n",
    "# Write your FightingPokemon class solution here\n",
    "\n",
    "# Write your GroundPokemon class solution here\n",
    "\n",
    "# Write your WaterPokemon class solution here\n",
    "\n",
    "\n",
    "def main():\n",
    "    pass\n",
    "\n",
    "\n",
    "if __name__ == '__main__':\n",
    "    main()"
   ]
  },
  {
   "cell_type": "markdown",
   "metadata": {},
   "source": [
    "# Submission\n",
    "1. Create a new branch named 13-checkpoint within your practicals GitHub repository\n",
    "2. Create a new pull request and assign Grayson-Orr to review your submission\n",
    "\n",
    "**Note:** Please don't merge your own pull request."
   ]
  }
 ],
 "metadata": {
  "kernelspec": {
   "display_name": "Python 3",
   "language": "python",
   "name": "python3"
  },
  "language_info": {
   "codemirror_mode": {
    "name": "ipython",
    "version": 3
   },
   "file_extension": ".py",
   "mimetype": "text/x-python",
   "name": "python",
   "nbconvert_exporter": "python",
   "pygments_lexer": "ipython3",
   "version": "3.7.5"
  }
 },
 "nbformat": 4,
 "nbformat_minor": 2
}
