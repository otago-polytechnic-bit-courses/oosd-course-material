{
 "cells": [
  {
   "cell_type": "markdown",
   "metadata": {},
   "source": [
    "##### College of Engineering, Construction and Living Sciences<br>Bachelor of Information Technology<br>IN710: Object-Oriented Systems Development<br>Level 7, Credits 15<br><br>Deadline: Tuesday, 31 March at 5pm\n",
    "\n",
    "# Practical 09: Adapter Pattern\n",
    "\n",
    "In this practical, you will complete a series of tasks covering today's lecture. This practical is worth 1% of the final mark for the Object-Oriented Systems Development course."
   ]
  },
  {
   "cell_type": "code",
   "execution_count": null,
   "metadata": {},
   "outputs": [],
   "source": [
    "%config IPCompleter.greedy=True"
   ]
  },
  {
   "cell_type": "markdown",
   "metadata": {},
   "source": [
    "## Adapter Pattern"
   ]
  },
  {
   "cell_type": "markdown",
   "metadata": {},
   "source": [
    "### Duck & Turkey\n",
    "**Task 1:**\n",
    "1. Create an interface class called `Duck` which has an abstract method called `quack` & `fly`.\n",
    "2. Create an interface class called `Turkey` which has an abstract method called `gobble` & `fly`.\n",
    "3. Create a class called `MallardDuck` which implements `Duck`. The `quack` method returns **Quack quack** & `fly` method returns **Fly fly fly!**.\n",
    "4. Create a class called `WildTurkey` which implements `Turkey`. The `gobble` method returns **Gobble gobble...** & `fly` method returns **Flying for a short distance**.\n",
    "5. Create a class called `TurkeyAdapter` which implements `Duck`. This also has a class attribute of `turkey`. The `quack` method returns the `turkey` `gobble` method & the `fly` method returns the `turkey` `fly` method.\n",
    "6. Using the `main` method, create & call the appropriate objects & methods to display the expected output."
   ]
  },
  {
   "cell_type": "code",
   "execution_count": null,
   "metadata": {},
   "outputs": [],
   "source": [
    "# Write your class solutions here\n",
    "\n",
    "def main():\n",
    "    pass\n",
    "\n",
    "\n",
    "if __name__ == '__main__':\n",
    "    main()\n",
    "\n",
    "    # Expected output:\n",
    "\n",
    "    # Quack quack\n",
    "    # Flying for a short distance\n",
    "    # Gobble gobble..."
   ]
  },
  {
   "cell_type": "markdown",
   "metadata": {},
   "source": [
    "### Duck & Turkey Unit Testing\n",
    "**Task 2:** For **each** method in the `MallardDuck`, `WildTurkey` & `TurkeyAdapter` classes, create a unit test. Create a test case class to display the expected output."
   ]
  },
  {
   "cell_type": "code",
   "execution_count": null,
   "metadata": {},
   "outputs": [],
   "source": [
    "# Write your test case solution here\n",
    "\n",
    "if __name__ == '__main__':\n",
    "    main(argv=[''], verbosity=2, exit=False)\n",
    "    \n",
    "    # Expected output:\n",
    "    \n",
    "    # test_mallard_duck_fly (__main__.TestDuckTurkey) ... ok\n",
    "    # test_mallard_duck_quack (__main__.TestDuckTurkey) ... ok\n",
    "    # test_turkey_adapter_fly (__main__.TestDuckTurkey) ... ok\n",
    "    # test_turkey_adapter_quack (__main__.TestDuckTurkey) ... ok\n",
    "    # test_wild_turkey_fly (__main__.TestDuckTurkey) ... ok\n",
    "    # test_wild_turkey_gobble (__main__.TestDuckTurkey) ... ok"
   ]
  },
  {
   "cell_type": "markdown",
   "metadata": {},
   "source": [
    "### Dance, Singer & Pub\n",
    "**Task 3:** In this task, you will see a different way of implementing the adapter pattern. \n",
    "1. Create a class called `Musician` with the class attributes `name` & `instrument`. \n",
    "    - Add a `__str__` special method which returns `name` **is a musician who**\n",
    "    - Add a `play` method which returns **plays** `instrument`\n",
    "2. Create a class called `Singer` with the class attributes `name` & `genre`. \n",
    "    - Add a `__str__` special method which returns `name` **is a singer who**\n",
    "    - Add a `sing` method which returns **sings** `genre`\n",
    "3. Create a class called `Pub` with the class attributes `name`. \n",
    "    - Add a `__str__` special method which returns `name` **is a pub where**\n",
    "    - Add a `organise_event` method which returns **artists perform**\n",
    "4. In the `main` method, I have provided you with some code which performs the adapted methods. In your own words, explain what is happening."
   ]
  },
  {
   "cell_type": "code",
   "execution_count": null,
   "metadata": {},
   "outputs": [],
   "source": [
    "class Adapter:\n",
    "    def __init__(self, obj, adapted_methods):\n",
    "        self.obj = obj\n",
    "        # Copies the keys and values from kwargs to __dict__\n",
    "        self.__dict__.update(adapted_methods)\n",
    "\n",
    "    def __str__(self):\n",
    "        print(str(self.obj))\n",
    "\n",
    "\n",
    "def main():\n",
    "    objs = [Pub('The Bog'), Musician(\n",
    "        'Mark Harmon', 'piano'), Singer('Byron Pittman', 'opera')]\n",
    "\n",
    "    for o in objs:\n",
    "        if hasattr(o, 'play') or hasattr(o, 'sing'):\n",
    "            if hasattr(o, 'play'):\n",
    "                adapted_methods = dict(organise_event=o.play)\n",
    "            elif hasattr(o, 'sing'):\n",
    "                adapted_methods = dict(organise_event=o.sing)\n",
    "            o = Adapter(o, adapted_methods)\n",
    "\n",
    "        print(f'{o} {o.organise_event()}')\n",
    "\n",
    "\n",
    "if __name__ == '__main__':\n",
    "    main()\n",
    "\n",
    "    # Expected output:\n",
    "\n",
    "    # The Bog is a pub where arists perform\n",
    "    # Roy Ayers is a musician who plays piano\n",
    "    # Shane Sparks is a singer who sings opera"
   ]
  },
  {
   "cell_type": "markdown",
   "metadata": {},
   "source": [
    "# Submission\n",
    "1. Create a new branch named 09-checkpoint within your practicals GitHub repository\n",
    "2. Create a new pull request and assign Grayson-Orr to review your submission\n",
    "\n",
    "**Note:** Please don't merge your own pull request."
   ]
  }
 ],
 "metadata": {
  "kernelspec": {
   "display_name": "Python 3",
   "language": "python",
   "name": "python3"
  },
  "language_info": {
   "codemirror_mode": {
    "name": "ipython",
    "version": 3
   },
   "file_extension": ".py",
   "mimetype": "text/x-python",
   "name": "python",
   "nbconvert_exporter": "python",
   "pygments_lexer": "ipython3",
   "version": "3.7.5"
  }
 },
 "nbformat": 4,
 "nbformat_minor": 2
}
