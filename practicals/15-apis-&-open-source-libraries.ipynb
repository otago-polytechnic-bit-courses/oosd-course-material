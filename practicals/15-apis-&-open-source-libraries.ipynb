{
 "cells": [
  {
   "cell_type": "markdown",
   "metadata": {},
   "source": [
    "##### College of Engineering, Construction and Living Sciences<br>Bachelor of Information Technology<br>IN710: Object-Oriented Systems Development<br>Level 7, Credits 15<br><br>Deadline: Tuesday, 21 April at 5pm (second week of mid-semester break) \n",
    "\n",
    "# Practical 15: APIs & Open-Source Libraries\n",
    "\n",
    "In this **self-directed** practical, you will complete a series of tasks. This practical is worth 1% of the final mark for the Object-Oriented Systems Development course."
   ]
  },
  {
   "cell_type": "code",
   "execution_count": null,
   "metadata": {},
   "outputs": [],
   "source": [
    "%config IPCompleter.greedy=True"
   ]
  },
  {
   "cell_type": "markdown",
   "metadata": {},
   "source": [
    "## APIs & Open Source Libraries"
   ]
  },
  {
   "cell_type": "markdown",
   "metadata": {},
   "source": [
    "### Coronavirus API\n",
    "**Task 1:** Use the requests library & API URL provided below to display the number of coronavirus cases in New Zealand.\n",
    "\n",
    "**Resources:**\n",
    "- Coronavirus Tracker API: https://coronavirus-tracker-api.herokuapp.com/all"
   ]
  },
  {
   "cell_type": "code",
   "execution_count": null,
   "metadata": {},
   "outputs": [],
   "source": [
    "from requests import get\n",
    "\n",
    "# Write your solution here\n",
    "\n",
    "# Expected output:\n",
    "\n",
    "# In New Zealand, there are 797 cases or probable cases of coronavirus.\n",
    "\n",
    "# Note: 797 is the number of coronavirus cases in New Zealand as of 03/04/2020 "
   ]
  },
  {
   "cell_type": "markdown",
   "metadata": {},
   "source": [
    "### Pretty Table & REST Countries API\n",
    "**Task 2:** Use the requests library, pretty table library & API URL provided below to display the expected output. \n",
    "\n",
    "**Additional Hints:**\n",
    "- Create a new pretty table object\n",
    "- Create a list of countries, for example, Australia, Brazil, China, France & Italy\n",
    "- Use the field names, for example, Country, Capital City & Population\n",
    "- Loop through the list of countries & make a request to the URL/API\n",
    "- Parse the required data & add a row to the table\n",
    "\n",
    "**Resources:** \n",
    "- Pretty Table: https://github.com/jazzband/prettytable\n",
    "- REST Countries API: https://restcountries.eu/#api-endpoints-name"
   ]
  },
  {
   "cell_type": "code",
   "execution_count": null,
   "metadata": {},
   "outputs": [],
   "source": [
    "pip install prettytable"
   ]
  },
  {
   "cell_type": "code",
   "execution_count": null,
   "metadata": {},
   "outputs": [],
   "source": [
    "from requests import get\n",
    "from prettytable import PrettyTable\n",
    "\n",
    "# Write your solution here\n",
    "\n",
    "# Expected output:\n",
    "\n",
    "# +-----------+--------------+------------+\n",
    "# |  Country  | Capital City | Population |\n",
    "# +-----------+--------------+------------+\n",
    "# | Australia |   Canberra   |  24117360  |\n",
    "# |   Brazil  |   Brasília   | 206135893  |\n",
    "# |   China   |   Beijing    | 1377422166 |\n",
    "# |   France  |    Paris     |  66710000  |\n",
    "# |   Italy   |     Rome     |  60665551  |\n",
    "# +-----------+--------------+------------+"
   ]
  },
  {
   "cell_type": "markdown",
   "metadata": {},
   "source": [
    "### Speech Recognition API\n",
    "**Task 3:** Using the documentation URL below, write a small program that recognises & displays the speech input from your microphone.\n",
    "\n",
    "**Resources:**\n",
    "- Speech Recognition: https://pypi.org/project/SpeechRecognition/"
   ]
  },
  {
   "cell_type": "code",
   "execution_count": null,
   "metadata": {},
   "outputs": [],
   "source": [
    "pip install pyaudio"
   ]
  },
  {
   "cell_type": "code",
   "execution_count": null,
   "metadata": {},
   "outputs": [],
   "source": [
    "pip install SpeechRecognition"
   ]
  },
  {
   "cell_type": "code",
   "execution_count": null,
   "metadata": {},
   "outputs": [],
   "source": [
    "# Write your solution here\n",
    "\n",
    "# Expected output:\n",
    "\n",
    "# Say something...\n",
    "# Google Speech Recognition thinks you said...hello world.\n",
    "\n",
    "# Note: your expected output will be different."
   ]
  },
  {
   "cell_type": "markdown",
   "metadata": {},
   "source": [
    "### Exchange Rate API\n",
    "**Task 4:** Use the requests library & API URL provided below to display the expected output. \n",
    "\n",
    "**Additional Hints:**\n",
    "- Make a request to the API & parse the currency rates\n",
    "- Ask the user for a currency, for example, NZD\n",
    "- Ask the user for an amount, for example, 20. **Note:** USD is the default currency\n",
    "- Check if the currency input is valid\n",
    "- If the currency input is valid, display the currency conversion amount\n",
    "    - For example, if the user enters NZD & 20, the currency conversion amount would equal 33.8\n",
    "- Make sure you make the correct check for invalid currencies\n",
    "\n",
    "**Resources:** \n",
    "- Exchange API: https://api.exchangerate-api.com/v5/latest"
   ]
  },
  {
   "cell_type": "code",
   "execution_count": null,
   "metadata": {},
   "outputs": [],
   "source": [
    "from requests import get\n",
    "\n",
    "# Write your solution here\n",
    "    \n",
    "# Expected output:    \n",
    "    \n",
    "# Please enter a currency: NZD\n",
    "# Please enter an amount in USD: 20\n",
    "# 20.0 USD to NZD = 33.8"
   ]
  },
  {
   "cell_type": "markdown",
   "metadata": {},
   "source": [
    "### Picsum API\n",
    "\n",
    "**Task 5:** Use the requests library & API URL provided to display the first 10 image URLs and randomly selected image.\n",
    "\n",
    "**Additional Hints:**\n",
    "- Make a request to the API\n",
    "- Append the 10 image URLs to a list\n",
    "- Randomly choose an image URL from the list\n",
    "- Use the IPython.core.display to display the random image\n",
    "- Display this using an HTML img tag\n",
    "\n",
    "**Resources:**\n",
    "- Picsum API: https://picsum.photos/v2/list"
   ]
  },
  {
   "cell_type": "code",
   "execution_count": null,
   "metadata": {},
   "outputs": [],
   "source": [
    "from requests import get\n",
    "\n",
    "# Write your solution here"
   ]
  },
  {
   "cell_type": "code",
   "execution_count": 1,
   "metadata": {
    "scrolled": false
   },
   "outputs": [
    {
     "name": "stdout",
     "output_type": "stream",
     "text": [
      "https://picsum.photos/id/0/5616/3744\n",
      "https://picsum.photos/id/1/5616/3744\n",
      "https://picsum.photos/id/10/2500/1667\n",
      "https://picsum.photos/id/100/2500/1656\n",
      "https://picsum.photos/id/1000/5626/3635\n",
      "https://picsum.photos/id/1001/5616/3744\n",
      "https://picsum.photos/id/1002/4312/2868\n",
      "https://picsum.photos/id/1003/1181/1772\n",
      "https://picsum.photos/id/1004/5616/3744\n",
      "https://picsum.photos/id/1005/5760/3840\n"
     ]
    },
    {
     "data": {
      "text/html": [
       "<img src=\"https://picsum.photos/id/10/2500/1667\">"
      ],
      "text/plain": [
       "<IPython.core.display.HTML object>"
      ]
     },
     "metadata": {},
     "output_type": "display_data"
    }
   ],
   "source": [
    "# Expected output:"
   ]
  },
  {
   "cell_type": "markdown",
   "metadata": {},
   "source": [
    "# Submission\n",
    "1. Create a new branch named 15-checkpoint within your practicals GitHub repository\n",
    "2. Create a new pull request and assign Grayson-Orr to review your submission\n",
    "\n",
    "**Note:** Please don't merge your own pull request."
   ]
  }
 ],
 "metadata": {
  "kernelspec": {
   "display_name": "Python 3",
   "language": "python",
   "name": "python3"
  },
  "language_info": {
   "codemirror_mode": {
    "name": "ipython",
    "version": 3
   },
   "file_extension": ".py",
   "mimetype": "text/x-python",
   "name": "python",
   "nbconvert_exporter": "python",
   "pygments_lexer": "ipython3",
   "version": "3.7.5"
  }
 },
 "nbformat": 4,
 "nbformat_minor": 2
}
