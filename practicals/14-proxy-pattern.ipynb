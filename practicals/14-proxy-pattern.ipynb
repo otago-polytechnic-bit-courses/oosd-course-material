{
 "cells": [
  {
   "cell_type": "markdown",
   "metadata": {},
   "source": [
    "##### College of Engineering, Construction and Living Sciences<br>Bachelor of Information Technology<br>IN710: Object-Oriented Systems Development<br>Level 7, Credits 15<br><br>Deadline: Tuesday, 14 April at 5pm (first week of mid-semester break)\n",
    "\n",
    "# Practical 14: Proxy Pattern\n",
    "\n",
    "In this practical, you will complete a series of tasks covering today's lecture. This practical is worth 1% of the final mark for the Object-Oriented Systems Development course."
   ]
  },
  {
   "cell_type": "code",
   "execution_count": null,
   "metadata": {},
   "outputs": [],
   "source": [
    "%config IPCompleter.greedy=True"
   ]
  },
  {
   "cell_type": "markdown",
   "metadata": {},
   "source": [
    "## Proxy Pattern"
   ]
  },
  {
   "cell_type": "markdown",
   "metadata": {},
   "source": [
    "### Driving\n",
    "**Task 1:** Refactor the lecture code so that:\n",
    "1. `Car` class's `drive` method returns **The driver is old enough to drive**\n",
    "2. `ProxyCar` class's `drive` returns **The driver is too young to drive** & `self.car.drive()`."
   ]
  },
  {
   "cell_type": "code",
   "execution_count": null,
   "metadata": {},
   "outputs": [],
   "source": [
    "from abc import ABC, abstractmethod\n",
    "\n",
    "# Write your class solutions here\n",
    "\n",
    "if __name__ == '__main__':\n",
    "    main()\n",
    "\n",
    "    # Expected output:\n",
    "\n",
    "    # The driver is too young to drive\n",
    "    # The driver is old enough to drive"
   ]
  },
  {
   "cell_type": "markdown",
   "metadata": {},
   "source": [
    "### Driving Unit Testing\n",
    "**Task 2:** Create two unit tests that test whether a driver is too young to drive & old enough to drive."
   ]
  },
  {
   "cell_type": "code",
   "execution_count": null,
   "metadata": {},
   "outputs": [],
   "source": [
    "from unittest import TestCase, main\n",
    "\n",
    "# Write your test solutions here\n",
    "\n",
    "if __name__ == '__main__':\n",
    "    main(argv=[''], verbosity=2, exit=False)\n",
    "\n",
    "    # Expected output:\n",
    "\n",
    "    # test_driver_old_enough (__main__.TestDriving) ... ok\n",
    "    # test_driver_too_young (__main__.TestDriving) ... ok"
   ]
  },
  {
   "cell_type": "markdown",
   "metadata": {},
   "source": [
    "### Protection Proxy\n",
    "**Task 3:**\n",
    "1. Create an abstract base class called `AbstractInfo` with the abstract methods `read` & `add`. The `add` method takes an argument of `user`.\n",
    "2. Create a class called `SensitiveInfo` which implements `AbstractInfo`. The `__init__` should declare a list of current users, for example, `['Clark', 'Harrison', 'Ryan']`. The `read` method should print out the current users & number of current user's, for example, **There are 3 users: Clark, Harrison, Ryan**.  The `add` method should append a new `user` to the list of current users. Print out a message when a new user has been added, for example, **User added: John**.\n",
    "3. Create a class called `ProxyInfo` which implements `AbstractInfo`. The `__init__` should declare a new `SensitiveInfo` object & `secret_code` with the value **oosd**. The `read` method should call the `SensitiveInfo` `read` method. The `add` method should ask the user for the `secret_code`, if the user provides the correct `secret_code`, then the user will be added. If the user provides the incorrect `secret_code`, print out **Incorrect secret code**.  \n",
    "4. Additional hints have been provided in the `main` method."
   ]
  },
  {
   "cell_type": "code",
   "execution_count": null,
   "metadata": {},
   "outputs": [],
   "source": [
    "# Write your AbstractInfo class solution here\n",
    "\n",
    "# Write your SensitiveInfo class solution here\n",
    "\n",
    "# Write your ProxyInfo class solution here\n",
    "\n",
    "\n",
    "def main():\n",
    "    # Create a new ProxyInfo object\n",
    "\n",
    "    while True:\n",
    "        key = int(\n",
    "            input('Please choose an option: [1] List Users, [2] Choose User, [3] Quit >>> '))\n",
    "        if key == 1:\n",
    "            # Call the ProxyInfo's read method\n",
    "        elif key == 2:\n",
    "            users_name = input('Please enter a user\\'s name: ')\n",
    "            # Call the ProxyInfo's add method, passing in the input's value\n",
    "        elif key == 3:\n",
    "            # Exit the code snippet\n",
    "        else:\n",
    "            print(f'{key} is not an option')\n",
    "\n",
    "\n",
    "if __name__ == '__main__':\n",
    "    main()"
   ]
  },
  {
   "cell_type": "markdown",
   "metadata": {},
   "source": [
    "# Submission\n",
    "1. Create a new branch named 14-checkpoint within your practicals GitHub repository\n",
    "2. Create a new pull request and assign Grayson-Orr to review your submission\n",
    "\n",
    "**Note:** Please don't merge your own pull request."
   ]
  }
 ],
 "metadata": {
  "kernelspec": {
   "display_name": "Python 3",
   "language": "python",
   "name": "python3"
  },
  "language_info": {
   "codemirror_mode": {
    "name": "ipython",
    "version": 3
   },
   "file_extension": ".py",
   "mimetype": "text/x-python",
   "name": "python",
   "nbconvert_exporter": "python",
   "pygments_lexer": "ipython3",
   "version": "3.7.5"
  }
 },
 "nbformat": 4,
 "nbformat_minor": 2
}
