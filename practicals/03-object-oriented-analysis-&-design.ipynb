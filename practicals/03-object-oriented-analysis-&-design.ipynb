{
 "cells": [
  {
   "cell_type": "markdown",
   "metadata": {},
   "source": [
    "##### College of Engineering, Construction and Living Sciences<br>Bachelor of Information Technology<br>IN710: Object-Oriented Systems Development<br>Level 7, Credits 15<br><br>Deadline: Tuesday, 10 March at 5pm\n",
    "\n",
    "# Practical 03: Object-Oriented Analysis & Design\n",
    "\n",
    "In this practical, you will complete a series of tasks covering today's lecture. This practical is worth 1% of the final mark for the Object-Oriented Systems Development course."
   ]
  },
  {
   "cell_type": "code",
   "execution_count": null,
   "metadata": {},
   "outputs": [],
   "source": [
    "%config IPCompleter.greedy=True"
   ]
  },
  {
   "cell_type": "markdown",
   "metadata": {},
   "source": [
    "## System Design"
   ]
  },
  {
   "cell_type": "markdown",
   "metadata": {},
   "source": [
    "### URL Shortener\n",
    "**Task 1 (Group):** In groups of two, three or four, design a URL shortener. **Note:** Please avoid using the internet for a quick solution. Only use it if you are stuck and/or confused. You will be required to design the system for your second assessment 👍. The more practice, the better you will get.\n",
    "\n",
    "Please answer the following questions:\n",
    "1. Why do we need a URL shortener?\n",
    "2. What are the functional & non-functional requirements?\n",
    "3. What are the constraints?\n",
    "4. What type of DBMS should we used to store this data?\n",
    "5. Using draw.io or creately, create a database schema\n",
    "6. Describe the basic algorithm"
   ]
  },
  {
   "cell_type": "code",
   "execution_count": null,
   "metadata": {},
   "outputs": [],
   "source": [
    "# Write your system design here"
   ]
  },
  {
   "cell_type": "markdown",
   "metadata": {},
   "source": [
    "### Liskov Substitution Principle\n",
    "**Task 2 (Research):** Explain why the square/rectangle problem breaks the **Liskov Substitution** principle."
   ]
  },
  {
   "cell_type": "code",
   "execution_count": null,
   "metadata": {},
   "outputs": [],
   "source": [
    "# Write your explaination here"
   ]
  },
  {
   "cell_type": "markdown",
   "metadata": {},
   "source": [
    "## Blackjack\n",
    "\n",
    "### Basic Rules\n",
    "1. The game begins with the player placing a bet. Note: you don't need to implement this in your blackjack program\n",
    "2. The dealer deals two cards to the player & self. Note: the dealer has one card facing up & one down\n",
    "3. The hand's value is the sum of card values. For example, 3 of ♠  K of ♥  = 13. Here are the card values in blackjack:\n",
    "    - 2-10 count as their pip value\n",
    "    - Jack, Queen & King count as 10\n",
    "    - Ace counts as 1 or 11\n",
    "4. The player is allowed to draw (hit) additional cards to improve their hand's value. You should ask the user for some input value. I have used h for hit & s for stand\n",
    "5. Once the player has completed their hand, it's the dealer's turn. Note: the dealer's hand will not be complete if the player has either busted (the hand's value exceeds 21) or received a blackjack (A of ♠  K of ♥)\n",
    "6. The dealer reveals the card facing down & must draw until the hand's value equals 17. The dealer must stand at 17 or higher\n",
    "7. The player wins by either:\n",
    "    - Not busting  & having a higher hand value than the dealer\n",
    "    - Not busting and having the dealer bust\n",
    "    - Receiving a blackjack & the dealer not receiving a blackjack\n",
    "8. If the player and dealer have the same hand value (not including blackjacks), this is called a push and the player typically doesn't win or lose on that hand"
   ]
  },
  {
   "cell_type": "markdown",
   "metadata": {},
   "source": [
    "### Implementation\n",
    "**Task 3 (Group):** Use the basic rules provided above to create a blackjack program."
   ]
  },
  {
   "cell_type": "code",
   "execution_count": null,
   "metadata": {},
   "outputs": [],
   "source": [
    "# Write your implementation here"
   ]
  },
  {
   "cell_type": "markdown",
   "metadata": {},
   "source": [
    "# Submission\n",
    "1. Create a new branch named 03-checkpoint within your practicals GitHub repository\n",
    "2. Create a new pull request and assign Grayson-Orr to review your submission\n",
    "\n",
    "**Note:** Please don't merge your own pull request."
   ]
  }
 ],
 "metadata": {
  "kernelspec": {
   "display_name": "Python 3",
   "language": "python",
   "name": "python3"
  },
  "language_info": {
   "codemirror_mode": {
    "name": "ipython",
    "version": 3
   },
   "file_extension": ".py",
   "mimetype": "text/x-python",
   "name": "python",
   "nbconvert_exporter": "python",
   "pygments_lexer": "ipython3",
   "version": "3.7.5"
  }
 },
 "nbformat": 4,
 "nbformat_minor": 2
}
